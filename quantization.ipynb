{
  "nbformat": 4,
  "nbformat_minor": 0,
  "metadata": {
    "colab": {
      "name": "quantization.ipynb",
      "provenance": [],
      "collapsed_sections": [],
      "toc_visible": true,
      "authorship_tag": "ABX9TyOymi9FLLq08krYRiuxsekF",
      "include_colab_link": true
    },
    "kernelspec": {
      "name": "python3",
      "display_name": "Python 3"
    }
  },
  "cells": [
    {
      "cell_type": "markdown",
      "metadata": {
        "id": "view-in-github",
        "colab_type": "text"
      },
      "source": [
        "<a href=\"https://colab.research.google.com/github/oleksandr-g-rock/Quantization/blob/main/quantization.ipynb\" target=\"_parent\"><img src=\"https://colab.research.google.com/assets/colab-badge.svg\" alt=\"Open In Colab\"/></a>"
      ]
    },
    {
      "cell_type": "markdown",
      "metadata": {
        "id": "Xas5et3EBkDr"
      },
      "source": [
        "# quantization "
      ]
    },
    {
      "cell_type": "code",
      "metadata": {
        "id": "WroqIZLDCsvy"
      },
      "source": [
        "#create directory\n",
        "!mkdir test"
      ],
      "execution_count": 35,
      "outputs": []
    },
    {
      "cell_type": "code",
      "metadata": {
        "id": "EqLlfBWdB0ra"
      },
      "source": [
        "#download your .h5 model in to test folder\n",
        "!cd test && wget https://github.com/oleksandr-g-rock/How_to_create-image-classification-for-recognizing-persons-animals-others/raw/main/animall_person_other_v2_fine_tuned.h5\n",
        "!mv test/animall_person_other_v2_fine_tuned.h5 test/mobilenetv2.h5"
      ],
      "execution_count": null,
      "outputs": []
    },
    {
      "cell_type": "markdown",
      "metadata": {
        "id": "cQXCvrXtGz3y"
      },
      "source": [
        "# How to convert .h5 to simple model tflite"
      ]
    },
    {
      "cell_type": "code",
      "metadata": {
        "id": "nGP7BntAwFan"
      },
      "source": [
        "import tensorflow as tf\n",
        "\n",
        "model = tf.keras.models.load_model('/content/test/mobilenetv2.h5')\n",
        "converter = tf.lite.TFLiteConverter.from_keras_model(model)\n",
        "tflite_model = converter.convert()\n",
        "open(\"/content/test/simple_tflite.tflite\", \"wb\").write(tflite_model)"
      ],
      "execution_count": null,
      "outputs": []
    },
    {
      "cell_type": "markdown",
      "metadata": {
        "id": "HDmjBAGiHt4N"
      },
      "source": [
        "# How to convert .h5 model to .pb model"
      ]
    },
    {
      "cell_type": "code",
      "metadata": {
        "id": "8TuF3xpHHt4N"
      },
      "source": [
        "import tensorflow as tf\n",
        "from tensorflow.keras.models import Model, load_model\n",
        "\n",
        "#save converted model to .pb format\n",
        "model = load_model(\"/content/test/mobilenetv2.h5\")\n",
        "model.save(\"/content/test/convertet_pb_model/\")"
      ],
      "execution_count": null,
      "outputs": []
    },
    {
      "cell_type": "markdown",
      "metadata": {
        "id": "ER3x15JR3nES"
      },
      "source": [
        "# quant simple float8"
      ]
    },
    {
      "cell_type": "code",
      "metadata": {
        "id": "z602UMO2o-mF"
      },
      "source": [
        "import tensorflow as tf\n",
        "\n",
        "model = tf.keras.models.load_model(\"/content/test/mobilenetv2.h5\")\n",
        "converter = tf.lite.TFLiteConverter.from_keras_model(model)\n",
        "converter.optimizations = [tf.lite.Optimize.DEFAULT]\n",
        "\n",
        "tflite_quant_model = converter.convert()\n",
        "\n",
        "#save converted quantization model to tflite format\n",
        "open(\"/content/test/quantization_DEFAULT_8bit_model_h5_to_tflite.tflite\", \"wb\").write(tflite_quant_model)"
      ],
      "execution_count": null,
      "outputs": []
    },
    {
      "cell_type": "code",
      "metadata": {
        "id": "p9feXYGa3WoW"
      },
      "source": [
        "import tensorflow as tf\n",
        "\n",
        "model = tf.keras.models.load_model(\"/content/test/mobilenetv2.h5\")\n",
        "converter = tf.lite.TFLiteConverter.from_keras_model(model)\n",
        "converter.optimizations = [tf.lite.Optimize.OPTIMIZE_FOR_SIZE]\n",
        "\n",
        "tflite_quant_model = converter.convert()\n",
        "\n",
        "#save converted quantization model to tflite format\n",
        "open(\"/content/test/quantization_OPTIMIZE_FOR_SIZE_8bit_model_h5_to_tflite.tflite\", \"wb\").write(tflite_quant_model)"
      ],
      "execution_count": null,
      "outputs": []
    },
    {
      "cell_type": "code",
      "metadata": {
        "id": "YxVutsjM3c7T"
      },
      "source": [
        "import tensorflow as tf\n",
        "\n",
        "model = tf.keras.models.load_model(\"/content/test/mobilenetv2.h5\")\n",
        "converter = tf.lite.TFLiteConverter.from_keras_model(model)\n",
        "converter.optimizations = [tf.lite.Optimize.OPTIMIZE_FOR_LATENCY]\n",
        "\n",
        "tflite_quant_model = converter.convert()\n",
        "\n",
        "#save converted quantization model to tflite format\n",
        "open(\"/content/test/quantization_OPTIMIZE_FOR_LATENCY_8bit_model_h5_to_tflite.tflite\", \"wb\").write(tflite_quant_model)"
      ],
      "execution_count": null,
      "outputs": []
    },
    {
      "cell_type": "markdown",
      "metadata": {
        "id": "itaxHuDy3spx"
      },
      "source": [
        "# quant float16"
      ]
    },
    {
      "cell_type": "code",
      "metadata": {
        "id": "_eFk7To4wBMK"
      },
      "source": [
        "import tensorflow as tf\n",
        "\n",
        "model = tf.keras.models.load_model(\"/content/test/mobilenetv2.h5\")\n",
        "converter = tf.lite.TFLiteConverter.from_keras_model(model)\n",
        "converter.optimizations = [tf.lite.Optimize.DEFAULT]\n",
        "converter.target_spec.supported_types = [tf.float16]\n",
        "\n",
        "tflite_quant_model = converter.convert()\n",
        "\n",
        "#save converted quantization model to tflite format\n",
        "open(\"/content/test/quantization_DEFAULT_float16_model_h5_to_tflite.tflite\", \"wb\").write(tflite_quant_model)"
      ],
      "execution_count": null,
      "outputs": []
    },
    {
      "cell_type": "code",
      "metadata": {
        "id": "RgYKp40iyuDz"
      },
      "source": [
        "import tensorflow as tf\n",
        "\n",
        "model = tf.keras.models.load_model(\"/content/test/mobilenetv2.h5\")\n",
        "converter = tf.lite.TFLiteConverter.from_keras_model(model)\n",
        "converter.optimizations = [tf.lite.Optimize.OPTIMIZE_FOR_SIZE]\n",
        "converter.target_spec.supported_types = [tf.float16]\n",
        "\n",
        "tflite_quant_model = converter.convert()\n",
        "\n",
        "#save converted quantization model to tflite format\n",
        "open(\"/content/test/quantization_OPTIMIZE_FOR_SIZE_float16_model_h5_to_tflite.tflite\", \"wb\").write(tflite_quant_model)"
      ],
      "execution_count": null,
      "outputs": []
    },
    {
      "cell_type": "code",
      "metadata": {
        "id": "qUVlZqt11WEC"
      },
      "source": [
        "import tensorflow as tf\n",
        "\n",
        "model = tf.keras.models.load_model(\"/content/test/mobilenetv2.h5\")\n",
        "converter = tf.lite.TFLiteConverter.from_keras_model(model)\n",
        "converter.optimizations = [tf.lite.Optimize.OPTIMIZE_FOR_LATENCY]\n",
        "converter.target_spec.supported_types = [tf.float16]\n",
        "tflite_quant_model = converter.convert()\n",
        "\n",
        "#save converted quantization model to tflite format\n",
        "open(\"/content/test/quantization_OPTIMIZE_FOR_LATENCY_float16_model_h5_to_tflite.tflite\", \"wb\").write(tflite_quant_model)"
      ],
      "execution_count": null,
      "outputs": []
    }
  ]
}